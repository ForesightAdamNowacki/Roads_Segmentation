{
 "cells": [
  {
   "cell_type": "code",
   "execution_count": 2,
   "id": "welcome-jones",
   "metadata": {},
   "outputs": [],
   "source": [
    "import tensorflow as tf\n",
    "import numpy as np\n",
    "import pandas as pd\n",
    "import urllib.request\n",
    "import os"
   ]
  },
  {
   "cell_type": "code",
   "execution_count": 17,
   "id": "significant-charter",
   "metadata": {},
   "outputs": [],
   "source": [
    "# Data import:\n",
    "repository_dir = \"D:/GitHub/Roads_segmentation\"\n",
    "dataset_path = \"D:/GitHub/Datasets/MassachusettsRoads\"\n",
    "images_path = os.path.join(dataset_path, \"Images\")\n",
    "masks_path = os.path.join(dataset_path, \"Masks\")\n",
    "\n",
    "if not os.path.exists(dataset_path):\n",
    "\tos.mkdir(dataset_path)\n",
    "\tos.mkdir(images_path)\n",
    "\tos.mkdir(masks_path)\n",
    "\n",
    "data_images = pd.read_csv(os.path.join(repository_dir, \"Data\", \"Images.csv\"), header = None, names = [\"Links\"])\n",
    "data_masks = pd.read_csv(os.path.join(repository_dir, \"Data\", \"Masks.csv\"), header = None, names = [\"Links\"])"
   ]
  },
  {
   "cell_type": "code",
   "execution_count": null,
   "id": "religious-secretariat",
   "metadata": {},
   "outputs": [],
   "source": [
    "# Import images:\n",
    "for i in np.arange(0, len(data_images[\"Links\"])):\n",
    "    name = data_images[\"Links\"][i]\n",
    "    file_path = os.path.join(images_path, os.path.basename(name))\n",
    "    file_path = file_path.replace(\"tiff\", \"png\")\n",
    "    urllib.request.urlretrieve(name, file_path)\n",
    "    print(file_path)"
   ]
  },
  {
   "cell_type": "code",
   "execution_count": null,
   "id": "friendly-collaboration",
   "metadata": {},
   "outputs": [],
   "source": [
    "# Import masks:\n",
    "for i in np.arange(0, len(data_masks[\"Links\"])):\n",
    "    name = data_masks[\"Links\"][i]\n",
    "    file_path = os.path.join(masks_path, os.path.basename(name))\n",
    "    file_path = file_path.replace(\"tif\", \"png\")\n",
    "    urllib.request.urlretrieve(name, file_path)\n",
    "    print(i, file_path)"
   ]
  }
 ],
 "metadata": {
  "kernelspec": {
   "display_name": "GPU_ML_TF",
   "language": "python",
   "name": "gpu_ml_tf"
  },
  "language_info": {
   "codemirror_mode": {
    "name": "ipython",
    "version": 3
   },
   "file_extension": ".py",
   "mimetype": "text/x-python",
   "name": "python",
   "nbconvert_exporter": "python",
   "pygments_lexer": "ipython3",
   "version": "3.7.10"
  }
 },
 "nbformat": 4,
 "nbformat_minor": 5
}
