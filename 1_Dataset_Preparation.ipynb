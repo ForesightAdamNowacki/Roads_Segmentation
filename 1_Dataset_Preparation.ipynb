{
 "cells": [
  {
   "cell_type": "code",
   "execution_count": 31,
   "id": "4779293b-ba19-4fe8-b1ec-703f6e73b713",
   "metadata": {},
   "outputs": [],
   "source": [
    "from PIL import Image\n",
    "import numpy as np\n",
    "import os\n",
    "import glob\n",
    "import shutil"
   ]
  },
  {
   "cell_type": "code",
   "execution_count": null,
   "id": "980228f3-010e-4be0-aeaa-67673d5ecdac",
   "metadata": {},
   "outputs": [],
   "source": [
    "# Masks:\n",
    "os.chdir(r\"D:\\GitHub\\Datasets\\DeepGlobe Road Extraction Dataset\\train\")\n",
    "files = glob.glob(\"*mask*\")\n",
    "\n",
    "for i in np.arange(len(files)):\n",
    "    shutil.copyfile(os.path.join(r\"D:\\GitHub\\Datasets\\DeepGlobe Road Extraction Dataset\\train\", files[i]), \n",
    "                    os.path.join(r\"D:\\GitHub\\Datasets\\MassachusettsRoads\\Masks_2\", files[i]))\n",
    "    \n",
    "# Images\n",
    "os.chdir(r\"D:\\GitHub\\Datasets\\DeepGlobe Road Extraction Dataset\\train\")\n",
    "files = glob.glob(\"*sat*\")\n",
    "\n",
    "for i in np.arange(len(files)):\n",
    "    shutil.copyfile(os.path.join(r\"D:\\GitHub\\Datasets\\DeepGlobe Road Extraction Dataset\\train\", files[i]), \n",
    "                    os.path.join(r\"D:\\GitHub\\Datasets\\MassachusettsRoads\\Images_2\", files[i]))\n",
    "    \n",
    "# Images to Images_All\n",
    "os.chdir(r\"D:\\GitHub\\Datasets\\MassachusettsRoads\\Images\")\n",
    "files = glob.glob(\"*\")\n",
    "\n",
    "for i in np.arange(len(files)):\n",
    "    shutil.copyfile(os.path.join(r\"D:\\GitHub\\Datasets\\MassachusettsRoads\\Images\", files[i]), \n",
    "                    os.path.join(r\"D:\\GitHub\\Datasets\\MassachusettsRoads\\Images_All\", files[i]))\n",
    "    \n",
    "# Images_2 to Images_All\n",
    "os.chdir(r\"D:\\GitHub\\Datasets\\MassachusettsRoads\\Images_2\")\n",
    "files = glob.glob(\"*\")\n",
    "new_files = [i.replace(\"_sat\", \"\").replace(\"jpg\", \"png\") for i in files]\n",
    "\n",
    "for i in np.arange(len(files)):\n",
    "    shutil.copyfile(os.path.join(r\"D:\\GitHub\\Datasets\\MassachusettsRoads\\Images_2\", files[i]), \n",
    "                    os.path.join(r\"D:\\GitHub\\Datasets\\MassachusettsRoads\\Images_All\", new_files[i]))\n",
    "    \n",
    "# Masks to Masks_All\n",
    "os.chdir(r\"D:\\GitHub\\Datasets\\MassachusettsRoads\\Masks\")\n",
    "files = glob.glob(\"*\")\n",
    "\n",
    "for i in np.arange(len(files)):\n",
    "    shutil.copyfile(os.path.join(r\"D:\\GitHub\\Datasets\\MassachusettsRoads\\Masks\", files[i]), \n",
    "                    os.path.join(r\"D:\\GitHub\\Datasets\\MassachusettsRoads\\Masks_All\", files[i]))\n",
    "    \n",
    "# Masks_2 to Masks_All\n",
    "os.chdir(r\"D:\\GitHub\\Datasets\\MassachusettsRoads\\Masks_2\")\n",
    "files = glob.glob(\"*\")\n",
    "new_files = [i.replace(\"_mask\", \"\").replace(\"jpg\", \"png\") for i in files]\n",
    "\n",
    "for i in np.arange(len(files)):\n",
    "    shutil.copyfile(os.path.join(r\"D:\\GitHub\\Datasets\\MassachusettsRoads\\Masks_2\", files[i]), \n",
    "                    os.path.join(r\"D:\\GitHub\\Datasets\\MassachusettsRoads\\Masks_All\", new_files[i]))"
   ]
  }
 ],
 "metadata": {
  "kernelspec": {
   "display_name": "GPU_ML_TF",
   "language": "python",
   "name": "gpu_ml_tf"
  },
  "language_info": {
   "codemirror_mode": {
    "name": "ipython",
    "version": 3
   },
   "file_extension": ".py",
   "mimetype": "text/x-python",
   "name": "python",
   "nbconvert_exporter": "python",
   "pygments_lexer": "ipython3",
   "version": "3.7.10"
  }
 },
 "nbformat": 4,
 "nbformat_minor": 5
}
